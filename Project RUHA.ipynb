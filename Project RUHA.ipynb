{
 "cells": [
  {
   "cell_type": "code",
   "execution_count": 7,
   "id": "789ccb06",
   "metadata": {},
   "outputs": [],
   "source": [
    "#libraries to be included\n",
    "import pandas as pd \n",
    "from sklearn.model_selection import train_test_split\n",
    "import numpy as np\n",
    "from sklearn.preprocessing import StandardScaler\n",
    "from sklearn.preprocessing import MinMaxScaler\n",
    "from sklearn import tree\n",
    "from sklearn.metrics import confusion_matrix\n",
    "from sklearn.metrics import accuracy_score\n",
    "from sklearn.metrics import f1_score\n",
    "from sklearn.metrics import classification_report\n",
    "from sklearn.neighbors import KNeighborsClassifier"
   ]
  },
  {
   "cell_type": "code",
   "execution_count": 8,
   "id": "cbfe04f9",
   "metadata": {},
   "outputs": [],
   "source": [
    "import librosa\n",
    "import soundfile as sf\n",
    "import IPython.display as ipd\n",
    "import pandas as pd"
   ]
  },
  {
   "cell_type": "code",
   "execution_count": 9,
   "id": "719d0376",
   "metadata": {},
   "outputs": [],
   "source": [
    "import os\n",
    "import numpy as np\n",
    "import scipy\n",
    "from scipy.io import wavfile\n",
    "import scipy.fftpack as fft\n",
    "from scipy.signal import get_window\n",
    "import IPython.display as ipd\n",
    "import matplotlib.pyplot as plt\n",
    "from sklearn.preprocessing import LabelEncoder\n",
    "\n",
    "%matplotlib inline"
   ]
  },
  {
   "cell_type": "code",
   "execution_count": null,
   "id": "407de748",
   "metadata": {},
   "outputs": [],
   "source": []
  },
  {
   "cell_type": "code",
   "execution_count": 4,
   "id": "f4f213c3",
   "metadata": {},
   "outputs": [
    {
     "data": {
      "text/plain": [
       "['A.C', 'Bulb', 'Gaana', 'T.V']"
      ]
     },
     "execution_count": 4,
     "metadata": {},
     "output_type": "execute_result"
    }
   ],
   "source": [
    "#taking the path to data directory\n",
    "\n",
    "path_to_folder = os.getcwd() + '\\\\ProjectData'\n",
    "name_list = os.listdir(path_to_folder)\n",
    "name_list"
   ]
  },
  {
   "cell_type": "code",
   "execution_count": null,
   "id": "c33c556e",
   "metadata": {},
   "outputs": [],
   "source": []
  },
  {
   "cell_type": "code",
   "execution_count": 1,
   "id": "2ba2257f",
   "metadata": {},
   "outputs": [],
   "source": [
    "# getting the names of the data files\n",
    "# Applying MFCC\n",
    "\n",
    "Data_names = []\n",
    "MFCC_data = []\n",
    "Spectral_Centroid_data = []\n",
    "Mel_data = []\n",
    "chromagram_data = []\n",
    "list_of_labels = []\n",
    "\n",
    "\n",
    "for name in name_list:\n",
    "    \n",
    "    internal_path = os.path.join(path_to_folder,name)\n",
    "    Data_names.append(os.listdir(internal_path))\n",
    "\n",
    "for lis,nam in zip(Data_names,name_list):\n",
    "    \n",
    "    for name in lis:\n",
    "    \n",
    "        internal_path = os.path.join(path_to_folder,nam,name)\n",
    "        print(name)\n",
    "        \n",
    "        try:\n",
    "            \n",
    "            x, sample_rate = librosa.load(internal_path)\n",
    "            \n",
    "            MFCC_Features = librosa.feature.mfcc(y=x, sr=sample_rate)\n",
    "            MFCC_data.append(MFCC_Features.mean())\n",
    "            \n",
    "            Spectral_centroid_features = librosa.feature.spectral_centroid(y=x, sr = sample_rate)\n",
    "            Spectral_Centroid_data.append(Spectral_centroid_features.mean())\n",
    "            \n",
    "            Mel_features = librosa.feature.melspectrogram(y = x, sr = sample_rate)\n",
    "            Mel_data.append(Mel_features.mean())\n",
    "                        \n",
    "        \n",
    "        except:\n",
    "            1 == 1\n",
    "            \n",
    "        list_of_labels.append(nam)\n",
    "\n"
   ]
  },
  {
   "cell_type": "code",
   "execution_count": null,
   "id": "b751ce82",
   "metadata": {},
   "outputs": [],
   "source": [
    "# df1 = pd.DataFrame(list(zip(MFCC_data, list_of_labels)))\n",
    "# df2 = pd.DataFrame(list(zip(Spectral_Centroid_data,list_of_labels)))\n",
    "# df3 = pd.DataFrame(list(zip(Mel_data,list_of_labels)))\n",
    "\n",
    "\n",
    "\n",
    "# converting to DATAFRAME\n",
    "\n",
    "df = pd.DataFrame(list(zip(MFCC_data, Spectral_Centroid_data, Mel_data, list_of_labels)), columns = [\"Feature1\",\"Feature2\",\"Feature3\",\"Labels\"])"
   ]
  },
  {
   "cell_type": "code",
   "execution_count": null,
   "id": "0cabb4b3",
   "metadata": {},
   "outputs": [],
   "source": [
    "# SAVING THE DATAfRAME\n",
    "df.to_csv(\"DATA3.csv\", index = False)"
   ]
  },
  {
   "cell_type": "code",
   "execution_count": 10,
   "id": "79de4aa1",
   "metadata": {},
   "outputs": [
    {
     "data": {
      "text/html": [
       "<div>\n",
       "<style scoped>\n",
       "    .dataframe tbody tr th:only-of-type {\n",
       "        vertical-align: middle;\n",
       "    }\n",
       "\n",
       "    .dataframe tbody tr th {\n",
       "        vertical-align: top;\n",
       "    }\n",
       "\n",
       "    .dataframe thead th {\n",
       "        text-align: right;\n",
       "    }\n",
       "</style>\n",
       "<table border=\"1\" class=\"dataframe\">\n",
       "  <thead>\n",
       "    <tr style=\"text-align: right;\">\n",
       "      <th></th>\n",
       "      <th>Feature1</th>\n",
       "      <th>Feature2</th>\n",
       "      <th>Feature3</th>\n",
       "      <th>Labels</th>\n",
       "    </tr>\n",
       "  </thead>\n",
       "  <tbody>\n",
       "    <tr>\n",
       "      <th>0</th>\n",
       "      <td>-8.106838</td>\n",
       "      <td>1924.047362</td>\n",
       "      <td>1.810450</td>\n",
       "      <td>A.C</td>\n",
       "    </tr>\n",
       "    <tr>\n",
       "      <th>1</th>\n",
       "      <td>-17.663652</td>\n",
       "      <td>1890.609510</td>\n",
       "      <td>0.252166</td>\n",
       "      <td>A.C</td>\n",
       "    </tr>\n",
       "    <tr>\n",
       "      <th>2</th>\n",
       "      <td>-18.111359</td>\n",
       "      <td>1626.152523</td>\n",
       "      <td>0.161110</td>\n",
       "      <td>A.C</td>\n",
       "    </tr>\n",
       "    <tr>\n",
       "      <th>3</th>\n",
       "      <td>-20.020529</td>\n",
       "      <td>2016.398414</td>\n",
       "      <td>0.403820</td>\n",
       "      <td>A.C</td>\n",
       "    </tr>\n",
       "    <tr>\n",
       "      <th>4</th>\n",
       "      <td>-17.505745</td>\n",
       "      <td>1987.568117</td>\n",
       "      <td>0.260739</td>\n",
       "      <td>A.C</td>\n",
       "    </tr>\n",
       "    <tr>\n",
       "      <th>...</th>\n",
       "      <td>...</td>\n",
       "      <td>...</td>\n",
       "      <td>...</td>\n",
       "      <td>...</td>\n",
       "    </tr>\n",
       "    <tr>\n",
       "      <th>6330</th>\n",
       "      <td>-17.921495</td>\n",
       "      <td>1122.237533</td>\n",
       "      <td>3.059909</td>\n",
       "      <td>T.V</td>\n",
       "    </tr>\n",
       "    <tr>\n",
       "      <th>6331</th>\n",
       "      <td>-15.101150</td>\n",
       "      <td>919.446351</td>\n",
       "      <td>4.992302</td>\n",
       "      <td>T.V</td>\n",
       "    </tr>\n",
       "    <tr>\n",
       "      <th>6332</th>\n",
       "      <td>-15.101150</td>\n",
       "      <td>919.446351</td>\n",
       "      <td>4.992302</td>\n",
       "      <td>T.V</td>\n",
       "    </tr>\n",
       "    <tr>\n",
       "      <th>6333</th>\n",
       "      <td>-16.596748</td>\n",
       "      <td>1198.968896</td>\n",
       "      <td>3.294367</td>\n",
       "      <td>T.V</td>\n",
       "    </tr>\n",
       "    <tr>\n",
       "      <th>6334</th>\n",
       "      <td>-19.591095</td>\n",
       "      <td>1117.076898</td>\n",
       "      <td>3.073902</td>\n",
       "      <td>T.V</td>\n",
       "    </tr>\n",
       "  </tbody>\n",
       "</table>\n",
       "<p>6335 rows × 4 columns</p>\n",
       "</div>"
      ],
      "text/plain": [
       "       Feature1     Feature2  Feature3 Labels\n",
       "0     -8.106838  1924.047362  1.810450    A.C\n",
       "1    -17.663652  1890.609510  0.252166    A.C\n",
       "2    -18.111359  1626.152523  0.161110    A.C\n",
       "3    -20.020529  2016.398414  0.403820    A.C\n",
       "4    -17.505745  1987.568117  0.260739    A.C\n",
       "...         ...          ...       ...    ...\n",
       "6330 -17.921495  1122.237533  3.059909    T.V\n",
       "6331 -15.101150   919.446351  4.992302    T.V\n",
       "6332 -15.101150   919.446351  4.992302    T.V\n",
       "6333 -16.596748  1198.968896  3.294367    T.V\n",
       "6334 -19.591095  1117.076898  3.073902    T.V\n",
       "\n",
       "[6335 rows x 4 columns]"
      ]
     },
     "execution_count": 10,
     "metadata": {},
     "output_type": "execute_result"
    }
   ],
   "source": [
    "#Loading the Dataset\n",
    "df = pd.read_csv(\"DATA3.csv\")\n",
    "df"
   ]
  },
  {
   "cell_type": "code",
   "execution_count": 37,
   "id": "c74eb038",
   "metadata": {},
   "outputs": [
    {
     "data": {
      "text/html": [
       "<div>\n",
       "<style scoped>\n",
       "    .dataframe tbody tr th:only-of-type {\n",
       "        vertical-align: middle;\n",
       "    }\n",
       "\n",
       "    .dataframe tbody tr th {\n",
       "        vertical-align: top;\n",
       "    }\n",
       "\n",
       "    .dataframe thead th {\n",
       "        text-align: right;\n",
       "    }\n",
       "</style>\n",
       "<table border=\"1\" class=\"dataframe\">\n",
       "  <thead>\n",
       "    <tr style=\"text-align: right;\">\n",
       "      <th></th>\n",
       "      <th>Feature1</th>\n",
       "      <th>Feature2</th>\n",
       "      <th>Feature3</th>\n",
       "      <th>Labels</th>\n",
       "    </tr>\n",
       "  </thead>\n",
       "  <tbody>\n",
       "    <tr>\n",
       "      <th>0</th>\n",
       "      <td>-8.106838</td>\n",
       "      <td>1924.047362</td>\n",
       "      <td>1.810450</td>\n",
       "      <td>0</td>\n",
       "    </tr>\n",
       "    <tr>\n",
       "      <th>1</th>\n",
       "      <td>-17.663652</td>\n",
       "      <td>1890.609510</td>\n",
       "      <td>0.252166</td>\n",
       "      <td>0</td>\n",
       "    </tr>\n",
       "    <tr>\n",
       "      <th>2</th>\n",
       "      <td>-18.111359</td>\n",
       "      <td>1626.152523</td>\n",
       "      <td>0.161110</td>\n",
       "      <td>0</td>\n",
       "    </tr>\n",
       "    <tr>\n",
       "      <th>3</th>\n",
       "      <td>-20.020529</td>\n",
       "      <td>2016.398414</td>\n",
       "      <td>0.403820</td>\n",
       "      <td>0</td>\n",
       "    </tr>\n",
       "    <tr>\n",
       "      <th>4</th>\n",
       "      <td>-17.505745</td>\n",
       "      <td>1987.568117</td>\n",
       "      <td>0.260739</td>\n",
       "      <td>0</td>\n",
       "    </tr>\n",
       "    <tr>\n",
       "      <th>...</th>\n",
       "      <td>...</td>\n",
       "      <td>...</td>\n",
       "      <td>...</td>\n",
       "      <td>...</td>\n",
       "    </tr>\n",
       "    <tr>\n",
       "      <th>6330</th>\n",
       "      <td>-17.921495</td>\n",
       "      <td>1122.237533</td>\n",
       "      <td>3.059909</td>\n",
       "      <td>3</td>\n",
       "    </tr>\n",
       "    <tr>\n",
       "      <th>6331</th>\n",
       "      <td>-15.101150</td>\n",
       "      <td>919.446351</td>\n",
       "      <td>4.992302</td>\n",
       "      <td>3</td>\n",
       "    </tr>\n",
       "    <tr>\n",
       "      <th>6332</th>\n",
       "      <td>-15.101150</td>\n",
       "      <td>919.446351</td>\n",
       "      <td>4.992302</td>\n",
       "      <td>3</td>\n",
       "    </tr>\n",
       "    <tr>\n",
       "      <th>6333</th>\n",
       "      <td>-16.596748</td>\n",
       "      <td>1198.968896</td>\n",
       "      <td>3.294367</td>\n",
       "      <td>3</td>\n",
       "    </tr>\n",
       "    <tr>\n",
       "      <th>6334</th>\n",
       "      <td>-19.591095</td>\n",
       "      <td>1117.076898</td>\n",
       "      <td>3.073902</td>\n",
       "      <td>3</td>\n",
       "    </tr>\n",
       "  </tbody>\n",
       "</table>\n",
       "<p>6335 rows × 4 columns</p>\n",
       "</div>"
      ],
      "text/plain": [
       "       Feature1     Feature2  Feature3  Labels\n",
       "0     -8.106838  1924.047362  1.810450       0\n",
       "1    -17.663652  1890.609510  0.252166       0\n",
       "2    -18.111359  1626.152523  0.161110       0\n",
       "3    -20.020529  2016.398414  0.403820       0\n",
       "4    -17.505745  1987.568117  0.260739       0\n",
       "...         ...          ...       ...     ...\n",
       "6330 -17.921495  1122.237533  3.059909       3\n",
       "6331 -15.101150   919.446351  4.992302       3\n",
       "6332 -15.101150   919.446351  4.992302       3\n",
       "6333 -16.596748  1198.968896  3.294367       3\n",
       "6334 -19.591095  1117.076898  3.073902       3\n",
       "\n",
       "[6335 rows x 4 columns]"
      ]
     },
     "execution_count": 37,
     "metadata": {},
     "output_type": "execute_result"
    }
   ],
   "source": [
    "# Applying Label Encoder\n",
    "\n",
    "le = LabelEncoder()\n",
    "df['Labels'] = le.fit_transform(df['Labels'])\n",
    "df"
   ]
  },
  {
   "cell_type": "markdown",
   "id": "c9f2587e",
   "metadata": {},
   "source": [
    "# Splitting the Data"
   ]
  },
  {
   "cell_type": "code",
   "execution_count": 12,
   "id": "8f5f3023",
   "metadata": {},
   "outputs": [],
   "source": [
    "X = df.drop(\"Labels\", axis = 1)\n",
    "y = df['Labels']"
   ]
  },
  {
   "cell_type": "code",
   "execution_count": 54,
   "id": "4a824681",
   "metadata": {},
   "outputs": [],
   "source": [
    "X_train, X_test, y_train, y_test = train_test_split(X, y, test_size=0.2)"
   ]
  },
  {
   "cell_type": "markdown",
   "id": "79dbdb27",
   "metadata": {},
   "source": [
    "# APPLYING KNN ALGORITHM"
   ]
  },
  {
   "cell_type": "code",
   "execution_count": 9,
   "id": "a25e5c48",
   "metadata": {},
   "outputs": [],
   "source": [
    "sc = StandardScaler()\n",
    "X_train = sc.fit_transform(X_train)\n",
    "X_test = sc.transform(X_test)\n"
   ]
  },
  {
   "cell_type": "code",
   "execution_count": 55,
   "id": "190ca7aa",
   "metadata": {},
   "outputs": [
    {
     "data": {
      "text/plain": [
       "0.43526553280111074"
      ]
     },
     "execution_count": 55,
     "metadata": {},
     "output_type": "execute_result"
    }
   ],
   "source": [
    "classifier= KNeighborsClassifier(n_neighbors = 61)  \n",
    "classifier = classifier.fit(X_train, y_train)\n",
    "\n",
    "pa = classifier.predict(X_test)\n",
    "classifier.score(X_test,y_test)\n"
   ]
  },
  {
   "cell_type": "code",
   "execution_count": 56,
   "id": "622f9fdd",
   "metadata": {},
   "outputs": [
    {
     "name": "stdout",
     "output_type": "stream",
     "text": [
      "Accuracy :  43.526553280111074\n",
      "Report : \n",
      "               precision    recall  f1-score   support\n",
      "\n",
      "           0       0.44      0.65      0.52       715\n",
      "           1       0.39      0.25      0.30       702\n",
      "           2       0.46      0.56      0.50       728\n",
      "           3       0.44      0.28      0.34       736\n",
      "\n",
      "    accuracy                           0.44      2881\n",
      "   macro avg       0.43      0.44      0.42      2881\n",
      "weighted avg       0.43      0.44      0.42      2881\n",
      "\n",
      "F1 Score :  41.764487333820924\n"
     ]
    }
   ],
   "source": [
    "from sklearn.metrics import confusion_matrix\n",
    "from sklearn.metrics import accuracy_score\n",
    "from sklearn.metrics import f1_score\n",
    "from sklearn.metrics import classification_report \n",
    "print (\"Accuracy : \" , accuracy_score(y_test,pa)*100)\n",
    "print(\"Report : \\n\", classification_report(y_test, pa))\n",
    "print(\"F1 Score : \",f1_score(y_test, pa, average='macro')*100)"
   ]
  },
  {
   "cell_type": "markdown",
   "id": "f702c3a0",
   "metadata": {},
   "source": [
    "# Applying DecisionTree Algorithm"
   ]
  },
  {
   "cell_type": "code",
   "execution_count": 57,
   "id": "71814922",
   "metadata": {},
   "outputs": [],
   "source": [
    "from sklearn.tree import DecisionTreeClassifier\n",
    "clf = DecisionTreeClassifier()\n",
    "clf = clf.fit(X_train, y_train)"
   ]
  },
  {
   "cell_type": "code",
   "execution_count": 58,
   "id": "eef6eeb4",
   "metadata": {},
   "outputs": [
    {
     "data": {
      "text/plain": [
       "0.594585213467546"
      ]
     },
     "execution_count": 58,
     "metadata": {},
     "output_type": "execute_result"
    }
   ],
   "source": [
    "pred=clf.predict(X_test)\n",
    "clf.score(X_test,y_test)"
   ]
  },
  {
   "cell_type": "code",
   "execution_count": 59,
   "id": "79db8dad",
   "metadata": {},
   "outputs": [
    {
     "name": "stdout",
     "output_type": "stream",
     "text": [
      "Accuracy :  59.4585213467546\n",
      "Report : \n",
      "               precision    recall  f1-score   support\n",
      "\n",
      "           0       0.66      0.70      0.68       715\n",
      "           1       0.52      0.49      0.50       702\n",
      "           2       0.65      0.65      0.65       728\n",
      "           3       0.54      0.54      0.54       736\n",
      "\n",
      "    accuracy                           0.59      2881\n",
      "   macro avg       0.59      0.59      0.59      2881\n",
      "weighted avg       0.59      0.59      0.59      2881\n",
      "\n",
      "F1 Score :  59.30917340861615\n"
     ]
    }
   ],
   "source": [
    "print (\"Accuracy : \" , accuracy_score(y_test,pred)*100)  \n",
    "print(\"Report : \\n\", classification_report(y_test, pred))\n",
    "print(\"F1 Score : \",f1_score(y_test, pred, average='macro')*100)"
   ]
  },
  {
   "cell_type": "markdown",
   "id": "a8c0fe52",
   "metadata": {},
   "source": [
    "# Gaussian NB"
   ]
  },
  {
   "cell_type": "code",
   "execution_count": 60,
   "id": "1d38b8be",
   "metadata": {},
   "outputs": [],
   "source": [
    "from sklearn.naive_bayes import GaussianNB\n",
    "\n",
    "gnb = GaussianNB()\n",
    "pred = gnb.fit(X_train, y_train).predict(X_test)"
   ]
  },
  {
   "cell_type": "code",
   "execution_count": 61,
   "id": "1116641e",
   "metadata": {},
   "outputs": [
    {
     "name": "stdout",
     "output_type": "stream",
     "text": [
      "Accuracy :  30.64908018049288\n",
      "Report : \n",
      "               precision    recall  f1-score   support\n",
      "\n",
      "           0       0.32      0.58      0.41       715\n",
      "           1       0.33      0.26      0.29       702\n",
      "           2       0.33      0.10      0.15       728\n",
      "           3       0.27      0.29      0.28       736\n",
      "\n",
      "    accuracy                           0.31      2881\n",
      "   macro avg       0.31      0.31      0.28      2881\n",
      "weighted avg       0.31      0.31      0.28      2881\n",
      "\n",
      "F1 Score :  28.248596635626928\n"
     ]
    }
   ],
   "source": [
    "print (\"Accuracy : \" , accuracy_score(y_test,pred)*100)  \n",
    "print(\"Report : \\n\", classification_report(y_test, pred))\n",
    "print(\"F1 Score : \",f1_score(y_test, pred, average='macro')*100)"
   ]
  },
  {
   "cell_type": "code",
   "execution_count": 18,
   "id": "bb57efd8",
   "metadata": {},
   "outputs": [
    {
     "data": {
      "text/plain": [
       "0.5401736385161799"
      ]
     },
     "execution_count": 18,
     "metadata": {},
     "output_type": "execute_result"
    }
   ],
   "source": [
    "# from sklearn.model_selection import cross_val_score\n",
    "# from sklearn.ensemble import AdaBoostClassifier\n",
    "\n",
    "# clf = AdaBoostClassifier(n_estimators=100)\n",
    "# scores = cross_val_score(clf, X, y, cv=5)\n",
    "# scores.mean()"
   ]
  },
  {
   "cell_type": "markdown",
   "id": "6b7f706b",
   "metadata": {},
   "source": [
    "# MLPCLassifier"
   ]
  },
  {
   "cell_type": "code",
   "execution_count": 62,
   "id": "667985b0",
   "metadata": {},
   "outputs": [
    {
     "name": "stderr",
     "output_type": "stream",
     "text": [
      "C:\\Users\\abdul\\anaconda3\\lib\\site-packages\\sklearn\\neural_network\\_multilayer_perceptron.py:549: ConvergenceWarning: lbfgs failed to converge (status=2):\n",
      "ABNORMAL_TERMINATION_IN_LNSRCH.\n",
      "\n",
      "Increase the number of iterations (max_iter) or scale the data as shown in:\n",
      "    https://scikit-learn.org/stable/modules/preprocessing.html\n",
      "  self.n_iter_ = _check_optimize_result(\"lbfgs\", opt_res, self.max_iter)\n"
     ]
    }
   ],
   "source": [
    "from sklearn.neural_network import MLPClassifier\n",
    "clf = MLPClassifier(solver='lbfgs', alpha=1e-5,hidden_layer_sizes=(15,), random_state=1)\n",
    "\n",
    "clf.fit(X, y)\n",
    "\n",
    "#clf = MLPClassifier(alpha=1e-05, hidden_layer_sizes=(15,), random_state=1,solver='lbfgs')\n",
    "\n",
    "pred = clf.predict(X_test)\n"
   ]
  },
  {
   "cell_type": "code",
   "execution_count": 63,
   "id": "6e7572ea",
   "metadata": {},
   "outputs": [
    {
     "name": "stdout",
     "output_type": "stream",
     "text": [
      "Accuracy :  25.026032627559875\n",
      "Report : \n",
      "               precision    recall  f1-score   support\n",
      "\n",
      "           0       0.25      0.44      0.32       715\n",
      "           1       0.00      0.00      0.00       702\n",
      "           2       0.25      0.56      0.34       728\n",
      "           3       0.00      0.00      0.00       736\n",
      "\n",
      "    accuracy                           0.25      2881\n",
      "   macro avg       0.13      0.25      0.17      2881\n",
      "weighted avg       0.13      0.25      0.17      2881\n",
      "\n",
      "F1 Score :  16.619864043560977\n"
     ]
    },
    {
     "name": "stderr",
     "output_type": "stream",
     "text": [
      "C:\\Users\\abdul\\anaconda3\\lib\\site-packages\\sklearn\\metrics\\_classification.py:1318: UndefinedMetricWarning: Precision and F-score are ill-defined and being set to 0.0 in labels with no predicted samples. Use `zero_division` parameter to control this behavior.\n",
      "  _warn_prf(average, modifier, msg_start, len(result))\n",
      "C:\\Users\\abdul\\anaconda3\\lib\\site-packages\\sklearn\\metrics\\_classification.py:1318: UndefinedMetricWarning: Precision and F-score are ill-defined and being set to 0.0 in labels with no predicted samples. Use `zero_division` parameter to control this behavior.\n",
      "  _warn_prf(average, modifier, msg_start, len(result))\n",
      "C:\\Users\\abdul\\anaconda3\\lib\\site-packages\\sklearn\\metrics\\_classification.py:1318: UndefinedMetricWarning: Precision and F-score are ill-defined and being set to 0.0 in labels with no predicted samples. Use `zero_division` parameter to control this behavior.\n",
      "  _warn_prf(average, modifier, msg_start, len(result))\n"
     ]
    }
   ],
   "source": [
    "print (\"Accuracy : \" , accuracy_score(y_test,pred)*100)  \n",
    "print(\"Report : \\n\", classification_report(y_test, pred))\n",
    "print(\"F1 Score : \",f1_score(y_test, pred, average='macro')*100)"
   ]
  },
  {
   "cell_type": "code",
   "execution_count": null,
   "id": "d4950913",
   "metadata": {},
   "outputs": [],
   "source": []
  },
  {
   "cell_type": "code",
   "execution_count": null,
   "id": "e338fa9b",
   "metadata": {},
   "outputs": [],
   "source": []
  },
  {
   "cell_type": "code",
   "execution_count": null,
   "id": "a31f0e0f",
   "metadata": {},
   "outputs": [],
   "source": []
  },
  {
   "cell_type": "code",
   "execution_count": null,
   "id": "1536771d",
   "metadata": {},
   "outputs": [],
   "source": []
  },
  {
   "cell_type": "code",
   "execution_count": null,
   "id": "0d3be04d",
   "metadata": {},
   "outputs": [],
   "source": []
  },
  {
   "cell_type": "code",
   "execution_count": null,
   "id": "4061e195",
   "metadata": {},
   "outputs": [],
   "source": []
  },
  {
   "cell_type": "code",
   "execution_count": null,
   "id": "8ff75d4f",
   "metadata": {},
   "outputs": [],
   "source": []
  },
  {
   "cell_type": "code",
   "execution_count": null,
   "id": "9e4cd440",
   "metadata": {},
   "outputs": [],
   "source": []
  },
  {
   "cell_type": "code",
   "execution_count": null,
   "id": "8992e555",
   "metadata": {},
   "outputs": [],
   "source": []
  },
  {
   "cell_type": "code",
   "execution_count": null,
   "id": "827477f1",
   "metadata": {},
   "outputs": [],
   "source": []
  },
  {
   "cell_type": "code",
   "execution_count": null,
   "id": "67f33a15",
   "metadata": {},
   "outputs": [],
   "source": []
  },
  {
   "cell_type": "code",
   "execution_count": null,
   "id": "698449ce",
   "metadata": {},
   "outputs": [],
   "source": []
  },
  {
   "cell_type": "code",
   "execution_count": null,
   "id": "290dfa34",
   "metadata": {},
   "outputs": [],
   "source": []
  },
  {
   "cell_type": "code",
   "execution_count": null,
   "id": "d36b419f",
   "metadata": {},
   "outputs": [],
   "source": []
  },
  {
   "cell_type": "code",
   "execution_count": null,
   "id": "9988a3bb",
   "metadata": {},
   "outputs": [],
   "source": []
  },
  {
   "cell_type": "code",
   "execution_count": null,
   "id": "a029a493",
   "metadata": {},
   "outputs": [],
   "source": []
  },
  {
   "cell_type": "code",
   "execution_count": null,
   "id": "995d855d",
   "metadata": {},
   "outputs": [],
   "source": []
  },
  {
   "cell_type": "code",
   "execution_count": null,
   "id": "5d850887",
   "metadata": {},
   "outputs": [],
   "source": []
  },
  {
   "cell_type": "code",
   "execution_count": null,
   "id": "7257fa81",
   "metadata": {},
   "outputs": [],
   "source": [
    "\n",
    "\n"
   ]
  },
  {
   "cell_type": "code",
   "execution_count": null,
   "id": "2de755aa",
   "metadata": {},
   "outputs": [],
   "source": []
  },
  {
   "cell_type": "code",
   "execution_count": null,
   "id": "5e19de88",
   "metadata": {},
   "outputs": [],
   "source": []
  },
  {
   "cell_type": "code",
   "execution_count": null,
   "id": "4a675c76",
   "metadata": {},
   "outputs": [],
   "source": []
  }
 ],
 "metadata": {
  "kernelspec": {
   "display_name": "Python 3 (ipykernel)",
   "language": "python",
   "name": "python3"
  },
  "language_info": {
   "codemirror_mode": {
    "name": "ipython",
    "version": 3
   },
   "file_extension": ".py",
   "mimetype": "text/x-python",
   "name": "python",
   "nbconvert_exporter": "python",
   "pygments_lexer": "ipython3",
   "version": "3.9.7"
  }
 },
 "nbformat": 4,
 "nbformat_minor": 5
}
